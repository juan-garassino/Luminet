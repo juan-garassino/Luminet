{
 "cells": [
  {
   "cell_type": "code",
   "execution_count": 1,
   "metadata": {},
   "outputs": [],
   "source": [
    "%load_ext autoreload\n",
    "%autoreload 2"
   ]
  },
  {
   "cell_type": "code",
   "execution_count": 2,
   "metadata": {},
   "outputs": [
    {
     "data": {
      "text/plain": [
       "['/Users/juan-garassino/Code/juan-garassino/mySandbox/luminet/notebooks',\n",
       " '/Users/juan-garassino/.pyenv/versions/3.10.6/lib/python310.zip',\n",
       " '/Users/juan-garassino/.pyenv/versions/3.10.6/lib/python3.10',\n",
       " '/Users/juan-garassino/.pyenv/versions/3.10.6/lib/python3.10/lib-dynload',\n",
       " '',\n",
       " '/Users/juan-garassino/.pyenv/versions/3.10.6/envs/blackhole/lib/python3.10/site-packages']"
      ]
     },
     "execution_count": 2,
     "metadata": {},
     "output_type": "execute_result"
    }
   ],
   "source": [
    "import sys\n",
    "\n",
    "sys.path"
   ]
  },
  {
   "cell_type": "code",
   "execution_count": 3,
   "metadata": {},
   "outputs": [],
   "source": [
    "from luminet.plotting import generate_and_save_plots\n",
    "import numpy as np\n",
    "# Example of how to call the function\n",
    "\n",
    "th0 = 45\n",
    "\n",
    "alpha = np.linspace(0, 2 * np.pi, 750) # Adjust alpha as needed for each plot\n",
    "\n",
    "r_vals = np.arange(7, 29, 3)\n",
    "\n",
    "n_vals_list = [0, 1] # Example list of n values for different plots\n",
    "\n",
    "m = 1\n",
    "\n",
    "dpi = 300\n",
    "\n",
    "generate_and_save_plots(th0, alpha, r_vals, n_vals_list, m, dpi)"
   ]
  },
  {
   "cell_type": "code",
   "execution_count": null,
   "metadata": {},
   "outputs": [],
   "source": []
  }
 ],
 "metadata": {
  "kernelspec": {
   "display_name": "blackhole",
   "language": "python",
   "name": "python3"
  },
  "language_info": {
   "codemirror_mode": {
    "name": "ipython",
    "version": 3
   },
   "file_extension": ".py",
   "mimetype": "text/x-python",
   "name": "python",
   "nbconvert_exporter": "python",
   "pygments_lexer": "ipython3",
   "version": "3.10.6"
  }
 },
 "nbformat": 4,
 "nbformat_minor": 2
}
